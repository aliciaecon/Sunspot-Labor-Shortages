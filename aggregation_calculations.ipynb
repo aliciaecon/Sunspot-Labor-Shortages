{
 "cells": [
  {
   "cell_type": "markdown",
   "id": "39c7a5e1",
   "metadata": {},
   "source": [
    "# Sunspot labor shortages\n",
    "\n",
    "## Aggregation calculations\n",
    "\n",
    "### Meghana Gaur and Alicia Zhang"
   ]
  },
  {
   "cell_type": "markdown",
   "id": "08b0b973",
   "metadata": {},
   "source": [
    "First, some setup and declaration of a variable struct to be used for the remainder of this exercise."
   ]
  },
  {
   "cell_type": "code",
   "execution_count": 15,
   "id": "1524fe69",
   "metadata": {},
   "outputs": [],
   "source": [
    "# Libraries\n",
    "using Plots"
   ]
  },
  {
   "cell_type": "code",
   "execution_count": null,
   "id": "574e8dfb",
   "metadata": {},
   "outputs": [],
   "source": [
    "# Import packages\n",
    "# using Pkg\n",
    "# Pkg.add(\"\")"
   ]
  },
  {
   "cell_type": "code",
   "execution_count": 38,
   "id": "bd233666",
   "metadata": {},
   "outputs": [
    {
     "data": {
      "text/plain": [
       "MktVariables"
      ]
     },
     "execution_count": 38,
     "metadata": {},
     "output_type": "execute_result"
    }
   ],
   "source": [
    "# Declare Variables\n",
    "# Global Variables\n",
    "gridsize = 1001\n",
    "wgrid = collect(range(0, 2, length = gridsize))\n",
    "\n",
    "# Overall Variables struct (to simplify passing parameters around)\n",
    "struct MktVariables\n",
    "    J::Float64\n",
    "    w::Float64\n",
    "    A::Vector{Float64}\n",
    "    Lbar::Float64\n",
    "    χ::Float64\n",
    "    staff::Vector{Bool}\n",
    "end\n",
    "# Constructor for default w, Lbar settings\n",
    "MktVariables(J, w, χ, staff) = \n",
    "    MktVariables(J, w, collect(range(w, w, length=J)), 0.5/(J+1), χ, staff)"
   ]
  },
  {
   "cell_type": "code",
   "execution_count": 39,
   "id": "240ca808",
   "metadata": {},
   "outputs": [
    {
     "data": {
      "text/plain": [
       "MktVariables(2.0, 0.5, [0.5, 0.5], 0.16666666666666666, 0.5, Bool[1, 0])"
      ]
     },
     "execution_count": 39,
     "metadata": {},
     "output_type": "execute_result"
    }
   ],
   "source": [
    "# Test the constructor\n",
    "MktVariables(2, 0.5, 0.5, [true, false])"
   ]
  },
  {
   "cell_type": "markdown",
   "id": "bc657744",
   "metadata": {},
   "source": [
    "Next, some functions for future calculations. For convention: $\\chi_j = false$ indicates that firm $j$ is not understaffed, while $\\chi_j = true$ indicates that firm $j$ is understaffed."
   ]
  },
  {
   "cell_type": "code",
   "execution_count": 33,
   "id": "f9c75a61",
   "metadata": {},
   "outputs": [
    {
     "data": {
      "text/plain": [
       "getCombos (generic function with 1 method)"
      ]
     },
     "execution_count": 33,
     "metadata": {},
     "output_type": "execute_result"
    }
   ],
   "source": [
    "# Some functions\n",
    "# Original utility setting: u(w) = w\n",
    "function u1(w) return w end\n",
    "\n",
    "# Calculate probability of working at firm j, \n",
    "# Given other firms' employment status\n",
    "function pWork(u, w, χ, χ_j, χ_vect)\n",
    "    num = exp(u(w) - (χ * χ_j))\n",
    "    denom = sum(exp.(u(w) .- (χ .* χ_vect)))\n",
    "    return(num/denom)\n",
    "end\n",
    "\n",
    "# Function to get all of the under/overstaffed combinations\n",
    "# Of a market of size J\n",
    "function getCombos(J)\n",
    "    return(reverse.(digits.(0:2^J-1,base=2,pad=J)))\n",
    "end"
   ]
  },
  {
   "cell_type": "code",
   "execution_count": 29,
   "id": "e170dec0",
   "metadata": {},
   "outputs": [
    {
     "data": {
      "text/plain": [
       "0.5"
      ]
     },
     "execution_count": 29,
     "metadata": {},
     "output_type": "execute_result"
    }
   ],
   "source": [
    "# Test\n",
    "pWork(u1, 1, 0.4, getCombos(2)[4][1], getCombos(2)[4])"
   ]
  },
  {
   "cell_type": "markdown",
   "id": "6b88105b",
   "metadata": {},
   "source": [
    "A first-pass loop looking at aggregate employment(?):\n",
    "\n",
    "(This is definitely where things need to be updated)"
   ]
  },
  {
   "cell_type": "code",
   "execution_count": 59,
   "id": "54435eac",
   "metadata": {},
   "outputs": [],
   "source": [
    "J= 2 # Temporary\n",
    "w = 0.5 # Temporary\n",
    "pvect = zeros(2^J, J)\n",
    "row = 1\n",
    "for combo in getCombos(J)\n",
    "    v1 = MktVariables(2, w, 0.4, combo)\n",
    "    for firm in 1:length(combo)\n",
    "        val =  pWork(u1, v1.w, v1.χ, combo[firm], combo)\n",
    "        pvect[row, firm] = pWork(u1, v1.w, v1.χ, combo[firm], combo)\n",
    "    end\n",
    "    row += 1\n",
    "end"
   ]
  },
  {
   "cell_type": "code",
   "execution_count": 60,
   "id": "751c26ab",
   "metadata": {},
   "outputs": [
    {
     "data": {
      "text/plain": [
       "4×2 Matrix{Float64}:\n",
       " 0.5       0.5\n",
       " 0.598688  0.401312\n",
       " 0.401312  0.598688\n",
       " 0.5       0.5"
      ]
     },
     "execution_count": 60,
     "metadata": {},
     "output_type": "execute_result"
    }
   ],
   "source": [
    "pvect"
   ]
  }
 ],
 "metadata": {
  "kernelspec": {
   "display_name": "Julia 1.7.2",
   "language": "julia",
   "name": "julia-1.7"
  },
  "language_info": {
   "file_extension": ".jl",
   "mimetype": "application/julia",
   "name": "julia",
   "version": "1.7.2"
  }
 },
 "nbformat": 4,
 "nbformat_minor": 5
}
